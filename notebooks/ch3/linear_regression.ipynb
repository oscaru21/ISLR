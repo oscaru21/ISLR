{
 "cells": [
  {
   "cell_type": "markdown",
   "metadata": {},
   "source": [
    "Linear Regression:\n",
    "In statistics, linear regression is a linear approach for modelling the relationship between a scalar response and one or more explanatory variables."
   ]
  },
  {
   "cell_type": "code",
   "execution_count": 1,
   "metadata": {},
   "outputs": [],
   "source": [
    "import numpy as np\n",
    "from matplotlib import pyplot as plt"
   ]
  },
  {
   "cell_type": "code",
   "execution_count": 22,
   "metadata": {},
   "outputs": [],
   "source": [
    "def regression(my_x, my_m, my_b):\n",
    "    return my_b + my_m*my_x"
   ]
  },
  {
   "cell_type": "code",
   "execution_count": 28,
   "metadata": {},
   "outputs": [],
   "source": [
    "def population_plot(my_x, my_y, my_m, my_b):\n",
    "    \n",
    "    fig, ax = plt.subplots()\n",
    "\n",
    "    ax.scatter(my_x, my_y)\n",
    "    \n",
    "    x_min, x_max = ax.get_xlim()\n",
    "    y_min = regression(x_min, my_m, my_b)\n",
    "    y_max = regression(x_max, my_m, my_b)\n",
    "    \n",
    "    ax.set_xlim([x_min, x_max])\n",
    "    _ = ax.plot([x_min, x_max], [y_min, y_max], c='red')"
   ]
  },
  {
   "cell_type": "code",
   "execution_count": 43,
   "metadata": {},
   "outputs": [],
   "source": [
    "def regression_population_plot(my_x, my_y, real_m, real_b, aprox_m, aprox_b):\n",
    "    \n",
    "    fig, ax = plt.subplots()\n",
    "\n",
    "    ax.scatter(my_x, my_y)\n",
    "    \n",
    "    x_min, x_max = ax.get_xlim()\n",
    "    real_y_min = regression(x_min, real_m, real_b)\n",
    "    real_y_max = regression(x_max, real_m, real_b)\n",
    "\n",
    "    aprox_y_min = regression(x_min, aprox_m, aprox_b)\n",
    "    aprox_y_max = regression(x_max, aprox_m, aprox_b)\n",
    "    \n",
    "    ax.set_xlim([x_min, x_max])\n",
    "    _ = ax.plot([x_min, x_max], [real_y_min, real_y_max], c='red')\n",
    "    _ = ax.plot([x_min, x_max], [aprox_y_min, aprox_y_max], c='lightblue')"
   ]
  },
  {
   "cell_type": "markdown",
   "metadata": {},
   "source": [
    "Let's create a sample dataset of (xi, yi) pairs for a function $Y =2+3X + ϵ$"
   ]
  },
  {
   "cell_type": "code",
   "execution_count": 45,
   "metadata": {},
   "outputs": [
    {
     "data": {
      "text/plain": [
       "array([ 4.98485233,  7.58769956, 11.89142641, 13.10499607, 15.28986006,\n",
       "       22.04202526, 21.02405863, 20.34431143, 24.8583693 , 19.00210499,\n",
       "       28.26162245, 40.01657371, 32.00309068, 39.31269663, 42.45811931,\n",
       "       53.44754963, 48.30842874, 48.07337354, 60.24912816, 58.18428584])"
      ]
     },
     "execution_count": 45,
     "metadata": {},
     "output_type": "execute_result"
    }
   ],
   "source": [
    "x = np.array([num for num in range(20)])\n",
    "\n",
    "#We compute the Y values with the inremovable error\n",
    "y = 2 + 3*x + np.random.normal(scale=5.0, loc=np.zeros(20))\n",
    "y\n"
   ]
  },
  {
   "cell_type": "code",
   "execution_count": 46,
   "metadata": {},
   "outputs": [
    {
     "data": {
      "image/png": "[encoded data removed]",
      "text/plain": [
       "<Figure size 432x288 with 1 Axes>"
      ]
     },
     "metadata": {
      "needs_background": "light"
     },
     "output_type": "display_data"
    }
   ],
   "source": [
    "#we plot our sample data and the population regression line\n",
    "population_plot(x, y, 3, 2)"
   ]
  },
  {
   "cell_type": "markdown",
   "metadata": {},
   "source": [
    "Estimating the coefficients:"
   ]
  },
  {
   "cell_type": "code",
   "execution_count": 39,
   "metadata": {},
   "outputs": [],
   "source": [
    "def linear_regression(x, y):\n",
    "    x_mean = x.mean()\n",
    "    y_mean = y.mean()\n",
    "\n",
    "    m = (((x - x_mean) * (y - y_mean)).sum()) / ((x - x_mean) ** 2).sum()\n",
    "    b = y_mean - m*x_mean\n",
    "\n",
    "    return m, b"
   ]
  },
  {
   "cell_type": "code",
   "execution_count": 47,
   "metadata": {},
   "outputs": [
    {
     "data": {
      "image/png": "[encoded data removed]",
      "text/plain": [
       "<Figure size 432x288 with 1 Axes>"
      ]
     },
     "metadata": {
      "needs_background": "light"
     },
     "output_type": "display_data"
    }
   ],
   "source": [
    "m, b = linear_regression(x, y)\n",
    "#now we can plot the sample data, the population line and the regression line all together\n",
    "regression_population_plot(x, y, 3, 2, m, b)\n",
    "#we can see that the estimation is really close because we are using a linear model for a dataset with a linear relationship"
   ]
  }
 ],
 "metadata": {
  "kernelspec": {
   "display_name": "Python 3.10.2 64-bit",
   "language": "python",
   "name": "python3"
  },
  "language_info": {
   "codemirror_mode": {
    "name": "ipython",
    "version": 3
   },
   "file_extension": ".py",
   "mimetype": "text/x-python",
   "name": "python",
   "nbconvert_exporter": "python",
   "pygments_lexer": "ipython3",
   "version": "3.10.2"
  },
  "orig_nbformat": 4,
  "vscode": {
   "interpreter": {
    "hash": "369f2c481f4da34e4445cda3fffd2e751bd1c4d706f27375911949ba6bb62e1c"
   }
  }
 },
 "nbformat": 4,
 "nbformat_minor": 2
}
